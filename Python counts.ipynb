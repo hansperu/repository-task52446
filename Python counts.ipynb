{
 "cells": [
  {
   "cell_type": "markdown",
   "metadata": {},
   "source": [
    "# Task 1\n",
    "\n",
    "Write a Python function called count that takes a list as input and returns a dictionary of unique items in the list as keys and the number of times each item appears as values. So the input ['A', 'A', 'B','C', 'A'] should have the output {A: 3, B: 1, C: 1}.\n",
    "\n",
    "## Python Counter\n",
    "\n",
    "Python Counter is a container that will hold the count of each of the elements present in the container. The counter is a sub-class available inside the dictionary class.\n",
    "\n",
    "The counter is a sub-class available inside the dictionary class. Using the Python Counter tool, you can count the key-value pairs in an object, also called a hash table object.\n",
    "\n",
    "### Why use Python Counter?\n",
    "\n",
    "Here, are major reasons for using Python Counter:\n",
    "\n",
    "The Counter holds the data in an unordered collection, just like hashtable objects. The elements here represent the keys and the count as values.\n",
    "\n",
    "It allows you to count the items in an iterable list.\n",
    "Arithmetic operations like addition, subtraction, intersection, and union can be easily performed on a Counter.\n",
    "\n",
    "A Counter can also count elements from another counter\n",
    "\n",
    "### Introduction to Python Counter\n",
    "\n",
    "Python Counter takes in input a list, tuple, dictionary, string, which are all iterable objects, and it will give you output that will have the count of each element.\n",
    "\n",
    "Syntax:\n",
    "\n",
    "`Counter(list)` \n",
    "\n",
    "Consider you have a following list :\n",
    "\n",
    "`list1 = ['x','y','z','x','x','x','y', 'z']`\n",
    "\n",
    "The list has elements x , y and z.When you use Counter on this list , it will count how many times x , y and z is present. The output if counter is used on list1 should be something like :\n",
    "\n",
    "`Counter({'x': 4, 'y': 2, 'z': 2})`\n",
    "\n",
    "So we have the count of x as 4, y as 2 and z as 2.\n",
    "\n",
    "To make use of Counter we need to import it first as shown in the below given example:\n",
    "\n",
    "`from collections import Counter`\n",
    "\n",
    "Here is a simple example , that shows the working of Counter module.\n",
    "\n",
    "`from collections import Counter\n",
    "list1 = ['x','y','z','x','x','x','y', 'z']\n",
    "print(Counter(list1))`\n",
    "\n",
    "Output:\n",
    "\n",
    "`Counter({'x': 4, 'y': 2, 'z': 2})`"
   ]
  },
  {
   "cell_type": "markdown",
   "metadata": {},
   "source": [
    "### Counter with List\n",
    "\n",
    "A list is an iterable object that has its elements inside square brackets.\n",
    "\n",
    "The elements in the list when given to the Counter will be converted to a hashtable objects wherein the elements will become keys and the values will be the count of the elements from the list given.\n",
    "\n",
    "For example ['x','y','z','x','x','x','y','z']. Once you give the list the Counter, it will give you the count of each element in the list."
   ]
  },
  {
   "cell_type": "code",
   "execution_count": 23,
   "metadata": {},
   "outputs": [
    {
     "name": "stdout",
     "output_type": "stream",
     "text": [
      "Counter({'x': 4, 'y': 2, 'z': 2})\n"
     ]
    }
   ],
   "source": [
    "from collections import Counter\n",
    "list1 = ['x','y','z','x','x','x','y','z']\n",
    "print(Counter(list1))"
   ]
  },
  {
   "cell_type": "markdown",
   "metadata": {},
   "source": [
    "## Proposed Task 1 Response"
   ]
  },
  {
   "cell_type": "code",
   "execution_count": 19,
   "metadata": {},
   "outputs": [],
   "source": [
    "from collections import Counter"
   ]
  },
  {
   "cell_type": "code",
   "execution_count": 29,
   "metadata": {},
   "outputs": [
    {
     "name": "stdout",
     "output_type": "stream",
     "text": [
      "['A', 'A', 'B', 'C', 'A']\n",
      "Counter({'A': 3, 'B': 1, 'C': 1})\n"
     ]
    }
   ],
   "source": [
    "language = ['A', 'A', 'B', 'C','A']\n",
    "counter = Counter(language)\n",
    "\n",
    "print(language)\n",
    "print(counter)"
   ]
  },
  {
   "cell_type": "markdown",
   "metadata": {},
   "source": [
    "## References\n",
    "\n",
    "[Counting the frequencies in a list using dictionary in Python](https://www.geeksforgeeks.org/counting-the-frequencies-in-a-list-using-dictionary-in-python/)\n",
    "\n",
    "[Usar la Clase Counter para Calcular la Frecuencia de una Lista](https://youtu.be/2iC8jDLkKwQ)\n",
    "\n",
    "[Is there a way to track the number of times a function is called?](https://stackoverflow.com/questions/21716940/is-there-a-way-to-track-the-number-of-times-a-function-is-called)"
   ]
  }
 ],
 "metadata": {
  "kernelspec": {
   "display_name": "Python 3",
   "language": "python",
   "name": "python3"
  },
  "language_info": {
   "codemirror_mode": {
    "name": "ipython",
    "version": 3
   },
   "file_extension": ".py",
   "mimetype": "text/x-python",
   "name": "python",
   "nbconvert_exporter": "python",
   "pygments_lexer": "ipython3",
   "version": "3.8.5"
  }
 },
 "nbformat": 4,
 "nbformat_minor": 4
}
