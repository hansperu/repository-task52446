{
 "cells": [
  {
   "cell_type": "markdown",
   "metadata": {},
   "source": [
    "# Task for Fundamentals of Data Analytics Modulo\n",
    "\n",
    "## Student: Hans Perez Rubin de Celis - G00387884\n",
    "\n",
    "This work has been developed by searching for information in the GMIT library database and web pages.\n",
    "\n",
    "A series of examples has been provided for each of the works that give a better understanding of the magnitude of each task.\n"
   ]
  },
  {
   "cell_type": "markdown",
   "metadata": {},
   "source": [
    "# Task 1\n",
    "\n",
    "Write a Python function called ``count`` that takes a list as input and returns a dictionary of unique items in the list as keys and the number of times each item appears as values. So the input ['A', 'A', 'B','C', 'A'] should have the output {A: 3, B: 1, C: 1}.\n",
    "\n",
    "\n",
    "## 1. Description\n",
    "\n",
    "count () method is used to count the number of times an item appears in the list.\n",
    "\n",
    "## 2. Grammar\n",
    "count () method syntax:\n",
    "list.count (obj)\n",
    "\n",
    "## 3. Parameters\n",
    "\n",
    "obj - the list of statistics objects.\n",
    "\n",
    "## 4. Return value\n",
    "\n",
    "Returns the number of items displayed in the list."
   ]
  },
  {
   "cell_type": "markdown",
   "metadata": {},
   "source": [
    "## 5. Python Counter\n",
    "\n",
    "Python Counter is a container that will hold the count of each of the elements present in the container. The counter is a sub-class available inside the dictionary class.\n",
    "\n",
    "The counter is a sub-class available inside the dictionary class. Using the Python Counter tool, you can count the key-value pairs in an object, also called a hash table object.\n",
    "\n",
    "### 5.1. Why use Python Counter?\n",
    "\n",
    "Here, are major reasons for using Python Counter:\n",
    "\n",
    "The Counter holds the data in an unordered collection, just like hashtable objects. The elements here represent the keys and the count as values.\n",
    "\n",
    "It allows you to count the items in an iterable list.\n",
    "Arithmetic operations like addition, subtraction, intersection, and union can be easily performed on a Counter.\n",
    "\n",
    "A Counter can also count elements from another counter\n",
    "\n",
    "### 5.2. Introduction to Python Counter\n",
    "\n",
    "Python Counter takes in input a list, tuple, dictionary, string, which are all iterable objects, and it will give you output that will have the count of each element.\n",
    "\n",
    "Syntax:\n",
    "\n",
    "`Counter(list)` \n",
    "\n",
    "Consider you have a following list :\n",
    "\n",
    "`list1 = ['x','y','z','x','x','x','y', 'z']`\n",
    "\n",
    "The list has elements x , y and z.When you use Counter on this list , it will count how many times x , y and z is present. The output if counter is used on list1 should be something like :\n",
    "\n",
    "`Counter({'x': 4, 'y': 2, 'z': 2})`\n",
    "\n",
    "So we have the count of x as 4, y as 2 and z as 2.\n",
    "\n",
    "To make use of Counter we need to import it first as shown in the below given example:\n",
    "\n",
    "`from collections import Counter`\n",
    "\n",
    "Here is a simple example , that shows the working of Counter module.\n",
    "\n",
    "`from collections import Counter\n",
    "list1 = ['x','y','z','x','x','x','y', 'z']\n",
    "print(Counter(list1))`\n",
    "\n",
    "Output:\n",
    "\n",
    "`Counter({'x': 4, 'y': 2, 'z': 2})`"
   ]
  },
  {
   "cell_type": "code",
   "execution_count": 5,
   "metadata": {},
   "outputs": [],
   "source": [
    "import numpy as np\n",
    "import numpy as np\n",
    "import matplotlib.pyplot as plt"
   ]
  },
  {
   "cell_type": "markdown",
   "metadata": {},
   "source": [
    "### 5.3 Counter with List\n",
    "\n",
    "A list is an iterable object that has its elements inside square brackets.\n",
    "\n",
    "The elements in the list when given to the Counter will be converted to a hashtable objects wherein the elements will become keys and the values will be the count of the elements from the list given.\n",
    "\n",
    "For example ['x','y','z','x','x','x','y','z']. Once you give the list the Counter, it will give you the count of each element in the list."
   ]
  },
  {
   "cell_type": "code",
   "execution_count": 6,
   "metadata": {},
   "outputs": [
    {
     "name": "stdout",
     "output_type": "stream",
     "text": [
      "Counter({'x': 4, 'y': 2, 'z': 2})\n"
     ]
    }
   ],
   "source": [
    "from collections import Counter\n",
    "list1 = ['x','y','z','x','x','x','y','z']\n",
    "print(Counter(list1))"
   ]
  },
  {
   "cell_type": "markdown",
   "metadata": {},
   "source": [
    "## Example 1\n",
    "We present a first example of a possible answer that takes a list as keys and the number of times each element appears.\n"
   ]
  },
  {
   "cell_type": "code",
   "execution_count": 28,
   "metadata": {},
   "outputs": [],
   "source": [
    "from collections import Counter"
   ]
  },
  {
   "cell_type": "code",
   "execution_count": 29,
   "metadata": {},
   "outputs": [
    {
     "name": "stdout",
     "output_type": "stream",
     "text": [
      "['A', 'A', 'B', 'C', 'A']\n",
      "Counter({'A': 3, 'B': 1, 'C': 1})\n"
     ]
    }
   ],
   "source": [
    "language = ['A', 'A', 'B', 'C','A']\n",
    "counter = Counter(language)\n",
    "\n",
    "print(language)\n",
    "print(counter)"
   ]
  },
  {
   "cell_type": "markdown",
   "metadata": {},
   "source": [
    "## Example 2\n",
    "\n",
    "In this second example we first create a very simple list of elements"
   ]
  },
  {
   "cell_type": "markdown",
   "metadata": {},
   "source": [
    "### Resultado al problema"
   ]
  },
  {
   "cell_type": "code",
   "execution_count": 81,
   "metadata": {},
   "outputs": [],
   "source": [
    "List = [5, 4, 3, 2, 1, 2, 3, 4, 5, \"A\", \"B\", \"C\", \"B\"]"
   ]
  },
  {
   "cell_type": "markdown",
   "metadata": {},
   "source": [
    "the second objective is through the set function which means to obtain a defined collection of different objects"
   ]
  },
  {
   "cell_type": "code",
   "execution_count": 82,
   "metadata": {},
   "outputs": [
    {
     "data": {
      "text/plain": [
       "{1, 2, 3, 4, 5, 'A', 'B', 'C'}"
      ]
     },
     "execution_count": 82,
     "metadata": {},
     "output_type": "execute_result"
    }
   ],
   "source": [
    "set(List)"
   ]
  },
  {
   "cell_type": "markdown",
   "metadata": {},
   "source": [
    "The next step is to use the count function that helps us count how many times the value we pass through the list is."
   ]
  },
  {
   "cell_type": "code",
   "execution_count": 84,
   "metadata": {},
   "outputs": [
    {
     "data": {
      "text/plain": [
       "2"
      ]
     },
     "execution_count": 84,
     "metadata": {},
     "output_type": "execute_result"
    }
   ],
   "source": [
    "List.count(5)"
   ]
  },
  {
   "cell_type": "markdown",
   "metadata": {},
   "source": [
    "We create the dict () function to create a dictionary."
   ]
  },
  {
   "cell_type": "code",
   "execution_count": 85,
   "metadata": {},
   "outputs": [
    {
     "data": {
      "text/plain": [
       "{'a': 2, 'b': 3}"
      ]
     },
     "execution_count": 85,
     "metadata": {},
     "output_type": "execute_result"
    }
   ],
   "source": [
    "dictionary = dict(a = 2, b = 3)\n",
    "dictionary"
   ]
  },
  {
   "cell_type": "markdown",
   "metadata": {},
   "source": [
    "Once the dictionary function is created, our key will be the variable element and our value will be the count of that value from the test list"
   ]
  },
  {
   "cell_type": "code",
   "execution_count": 42,
   "metadata": {},
   "outputs": [
    {
     "data": {
      "text/plain": [
       "{1: 1, 2: 2, 3: 2, 4: 2, 5: 2, 'A': 1, 'B': 2, 'C': 1}"
      ]
     },
     "execution_count": 42,
     "metadata": {},
     "output_type": "execute_result"
    }
   ],
   "source": [
    "dict((element, testList.count(element)) for element in set(testList))"
   ]
  },
  {
   "cell_type": "markdown",
   "metadata": {},
   "source": [
    "Again create a function with the above and call it count () with our input list"
   ]
  },
  {
   "cell_type": "code",
   "execution_count": 86,
   "metadata": {},
   "outputs": [
    {
     "data": {
      "text/plain": [
       "{1: 1, 2: 2, 3: 2, 4: 2, 5: 2, 'A': 1, 'B': 2, 'C': 1}"
      ]
     },
     "execution_count": 86,
     "metadata": {},
     "output_type": "execute_result"
    }
   ],
   "source": [
    "def counts(inputList):\n",
    "    return dict((element, inputList.count(element)) for element in set(inputList))\n",
    "\n",
    "counts(testList)"
   ]
  },
  {
   "cell_type": "markdown",
   "metadata": {},
   "source": [
    "# Task 2\n",
    "\n",
    "Write a Python function called ``dicerolls`` that simulates rolling dice. Your function should take two parameters: the number of dice ``k`` and the number of times to roll the dice ``n``. The function should simulate randomly rolling k dice n times, keeping track of each total face value. It should then return a dictionary with the number of times each possible total face value occurred. So, calling the function as ``diceroll(k=2, n=1000)`` should return a dictionary like: ``{2:19,3:50,4:82,5:112,6:135,7:174,8:133,9:114,10:75,11:70,12:36}``\n",
    "![imagen de dados](https://miro.medium.com/max/728/1*KvETiD5RMFrjHxxXD6N1BQ.jpeg)"
   ]
  },
  {
   "cell_type": "markdown",
   "metadata": {},
   "source": [
    "The goal is to create a Python function that can simulate pulling two data. Each die has 6 faces each will be labeled with one of the numbers 1, 2, 3, 4, 5, 6.\n",
    "\n"
   ]
  },
  {
   "cell_type": "markdown",
   "metadata": {},
   "source": [
    "### Example 1\n",
    "In this first example we are going to create a die that can simulate the acid of one of the 6 sides and that the function gives us a random number each time we roll the die.\n"
   ]
  },
  {
   "cell_type": "code",
   "execution_count": 31,
   "metadata": {},
   "outputs": [
    {
     "name": "stdout",
     "output_type": "stream",
     "text": [
      "El dado ha caido en: 1\n"
     ]
    }
   ],
   "source": [
    "from random import randint\n",
    "# print (randint(1,10))\n",
    "\n",
    "def lanzar_dado():\n",
    "    return randint(1,6)\n",
    "\n",
    "dado = lanzar_dado()\n",
    "print(f\"El dado ha caido en: {dado}\")\n",
    "\n",
    "\n"
   ]
  },
  {
   "cell_type": "markdown",
   "metadata": {},
   "source": [
    "### Example 2\n",
    "In this second example we have looked for the function to create the two dice and that simulates the rolling of the sides of each dice and gives us a result like the following function:\n"
   ]
  },
  {
   "cell_type": "code",
   "execution_count": 74,
   "metadata": {
    "scrolled": true
   },
   "outputs": [
    {
     "name": "stdout",
     "output_type": "stream",
     "text": [
      "Rolling the dice ...\n",
      "the numbers are ...\n",
      "5\n",
      "1\n"
     ]
    },
    {
     "ename": "KeyboardInterrupt",
     "evalue": "Interrupted by user",
     "output_type": "error",
     "traceback": [
      "\u001b[1;31m---------------------------------------------------------------------------\u001b[0m",
      "\u001b[1;31mKeyboardInterrupt\u001b[0m                         Traceback (most recent call last)",
      "\u001b[1;32m<ipython-input-74-f8dfb4adea67>\u001b[0m in \u001b[0;36m<module>\u001b[1;34m\u001b[0m\n\u001b[0;32m     11\u001b[0m     \u001b[0mprint\u001b[0m\u001b[1;33m(\u001b[0m\u001b[0mrandom\u001b[0m\u001b[1;33m.\u001b[0m\u001b[0mrandint\u001b[0m\u001b[1;33m(\u001b[0m\u001b[0mminimun_value\u001b[0m\u001b[1;33m,\u001b[0m \u001b[0mmaximun_value\u001b[0m\u001b[1;33m)\u001b[0m\u001b[1;33m)\u001b[0m\u001b[1;33m\u001b[0m\u001b[1;33m\u001b[0m\u001b[0m\n\u001b[0;32m     12\u001b[0m     \u001b[0mprint\u001b[0m\u001b[1;33m(\u001b[0m\u001b[0mrandom\u001b[0m\u001b[1;33m.\u001b[0m\u001b[0mrandint\u001b[0m\u001b[1;33m(\u001b[0m\u001b[0mminimun_value\u001b[0m\u001b[1;33m,\u001b[0m \u001b[0mmaximun_value\u001b[0m\u001b[1;33m)\u001b[0m\u001b[1;33m)\u001b[0m\u001b[1;33m\u001b[0m\u001b[1;33m\u001b[0m\u001b[0m\n\u001b[1;32m---> 13\u001b[1;33m     \u001b[0mplay_again\u001b[0m \u001b[1;33m=\u001b[0m \u001b[0minput\u001b[0m\u001b[1;33m(\u001b[0m\u001b[1;34m\"Roll the dice again?\"\u001b[0m\u001b[1;33m)\u001b[0m\u001b[1;33m\u001b[0m\u001b[1;33m\u001b[0m\u001b[0m\n\u001b[0m\u001b[0;32m     14\u001b[0m \u001b[1;33m\u001b[0m\u001b[0m\n\u001b[0;32m     15\u001b[0m \u001b[1;33m\u001b[0m\u001b[0m\n",
      "\u001b[1;32m~\\Anaconda3\\lib\\site-packages\\ipykernel\\kernelbase.py\u001b[0m in \u001b[0;36mraw_input\u001b[1;34m(self, prompt)\u001b[0m\n\u001b[0;32m    858\u001b[0m                 \u001b[1;34m\"raw_input was called, but this frontend does not support input requests.\"\u001b[0m\u001b[1;33m\u001b[0m\u001b[1;33m\u001b[0m\u001b[0m\n\u001b[0;32m    859\u001b[0m             )\n\u001b[1;32m--> 860\u001b[1;33m         return self._input_request(str(prompt),\n\u001b[0m\u001b[0;32m    861\u001b[0m             \u001b[0mself\u001b[0m\u001b[1;33m.\u001b[0m\u001b[0m_parent_ident\u001b[0m\u001b[1;33m,\u001b[0m\u001b[1;33m\u001b[0m\u001b[1;33m\u001b[0m\u001b[0m\n\u001b[0;32m    862\u001b[0m             \u001b[0mself\u001b[0m\u001b[1;33m.\u001b[0m\u001b[0m_parent_header\u001b[0m\u001b[1;33m,\u001b[0m\u001b[1;33m\u001b[0m\u001b[1;33m\u001b[0m\u001b[0m\n",
      "\u001b[1;32m~\\Anaconda3\\lib\\site-packages\\ipykernel\\kernelbase.py\u001b[0m in \u001b[0;36m_input_request\u001b[1;34m(self, prompt, ident, parent, password)\u001b[0m\n\u001b[0;32m    902\u001b[0m             \u001b[1;32mexcept\u001b[0m \u001b[0mKeyboardInterrupt\u001b[0m\u001b[1;33m:\u001b[0m\u001b[1;33m\u001b[0m\u001b[1;33m\u001b[0m\u001b[0m\n\u001b[0;32m    903\u001b[0m                 \u001b[1;31m# re-raise KeyboardInterrupt, to truncate traceback\u001b[0m\u001b[1;33m\u001b[0m\u001b[1;33m\u001b[0m\u001b[1;33m\u001b[0m\u001b[0m\n\u001b[1;32m--> 904\u001b[1;33m                 \u001b[1;32mraise\u001b[0m \u001b[0mKeyboardInterrupt\u001b[0m\u001b[1;33m(\u001b[0m\u001b[1;34m\"Interrupted by user\"\u001b[0m\u001b[1;33m)\u001b[0m \u001b[1;32mfrom\u001b[0m \u001b[1;32mNone\u001b[0m\u001b[1;33m\u001b[0m\u001b[1;33m\u001b[0m\u001b[0m\n\u001b[0m\u001b[0;32m    905\u001b[0m             \u001b[1;32mexcept\u001b[0m \u001b[0mException\u001b[0m \u001b[1;32mas\u001b[0m \u001b[0me\u001b[0m\u001b[1;33m:\u001b[0m\u001b[1;33m\u001b[0m\u001b[1;33m\u001b[0m\u001b[0m\n\u001b[0;32m    906\u001b[0m                 \u001b[0mself\u001b[0m\u001b[1;33m.\u001b[0m\u001b[0mlog\u001b[0m\u001b[1;33m.\u001b[0m\u001b[0mwarning\u001b[0m\u001b[1;33m(\u001b[0m\u001b[1;34m\"Invalid Message:\"\u001b[0m\u001b[1;33m,\u001b[0m \u001b[0mexc_info\u001b[0m\u001b[1;33m=\u001b[0m\u001b[1;32mTrue\u001b[0m\u001b[1;33m)\u001b[0m\u001b[1;33m\u001b[0m\u001b[1;33m\u001b[0m\u001b[0m\n",
      "\u001b[1;31mKeyboardInterrupt\u001b[0m: Interrupted by user"
     ]
    }
   ],
   "source": [
    "import random\n",
    "\n",
    "minimun_value = 1\n",
    "maximun_value = 6\n",
    "\n",
    "play_again = \"yes\"\n",
    "\n",
    "while play_again ==\"yes\" or play_another_time == \"y\":\n",
    "    print(\"Rolling the dice ...\")\n",
    "    print(\"the numbers are ...\")\n",
    "    print(random.randint(minimun_value, maximun_value))\n",
    "    print(random.randint(minimun_value, maximun_value))\n",
    "    play_again = input(\"Roll the dice again?\")\n",
    "    \n",
    "    "
   ]
  },
  {
   "cell_type": "markdown",
   "metadata": {},
   "source": [
    "### Example 3\n",
    "In this third example we have created the two dice and the function gives us the result of the roll of each of the two dice"
   ]
  },
  {
   "cell_type": "code",
   "execution_count": 78,
   "metadata": {},
   "outputs": [
    {
     "name": "stdout",
     "output_type": "stream",
     "text": [
      "The first die has fallen: 3\n",
      "The second die has fallen: 6\n"
     ]
    }
   ],
   "source": [
    "from random import randint\n",
    "\n",
    "def throw_drown():\n",
    "    return randint(1,6)\n",
    "\n",
    "first_dated = throw_drown()\n",
    "second_given = throw_drown()\n",
    "\n",
    "print(f\"The first die has fallen: {first_dated}\")\n",
    "print(f\"The second die has fallen: {second_given}\")"
   ]
  },
  {
   "cell_type": "markdown",
   "metadata": {},
   "source": [
    "The second objective is to simulate that we are going to roll the two dice several times, make the computer do it 1000 times, and take a look at the results."
   ]
  },
  {
   "cell_type": "code",
   "execution_count": 46,
   "metadata": {},
   "outputs": [],
   "source": [
    "def dice_rolls(k, n):\n",
    "    number = [1, 2, 3, 4, 5, 6]\n",
    "    rng = np.random.default_rng()\n",
    "    rolls = []\n",
    "    for i in range(n):\n",
    "        roll = sum(rng.choice(number, k))\n",
    "        rolls.append(roll)    \n",
    "    outcome = counts(rolls)\n",
    "    print(outcome)"
   ]
  },
  {
   "cell_type": "code",
   "execution_count": 61,
   "metadata": {
    "scrolled": true
   },
   "outputs": [
    {
     "name": "stdout",
     "output_type": "stream",
     "text": [
      "{2: 26, 3: 56, 4: 79, 5: 106, 6: 143, 7: 165, 8: 142, 9: 106, 10: 99, 11: 52, 12: 26}\n"
     ]
    }
   ],
   "source": [
    "dice_rolls(2, 1000)"
   ]
  },
  {
   "cell_type": "markdown",
   "metadata": {},
   "source": [
    "### Example 4"
   ]
  },
  {
   "cell_type": "code",
   "execution_count": 63,
   "metadata": {},
   "outputs": [
    {
     "data": {
      "text/plain": [
       "{2: 21,\n",
       " 3: 59,\n",
       " 4: 89,\n",
       " 5: 108,\n",
       " 6: 134,\n",
       " 7: 161,\n",
       " 8: 136,\n",
       " 9: 124,\n",
       " 10: 94,\n",
       " 11: 55,\n",
       " 12: 19}"
      ]
     },
     "execution_count": 63,
     "metadata": {},
     "output_type": "execute_result"
    }
   ],
   "source": [
    "import random\n",
    "\n",
    "def diceroll(k, n, dice_sides=6):\n",
    "    # prepare dictionary with zero values for all possible results\n",
    "    counter = {n : 0 for n in range(k, k*dice_sides + 1)}\n",
    "\n",
    "    # roll all the dice\n",
    "    for i in range(n):\n",
    "        dice_sum = sum(random.choices(range(1, dice_sides + 1), k = k))\n",
    "        counter[dice_sum] += 1\n",
    "    return counter\n",
    "\n",
    "diceroll(k=2, n=1000)"
   ]
  },
  {
   "cell_type": "markdown",
   "metadata": {},
   "source": [
    "### Example 5"
   ]
  },
  {
   "cell_type": "code",
   "execution_count": 67,
   "metadata": {},
   "outputs": [],
   "source": [
    "import random\n",
    "from collections import Counter\n",
    "def dice():\n",
    "    return random.randint(1,7)\n",
    "def dice_roll(number_of_times):\n",
    "    counter = Counter()\n",
    "    for i in range(number_of_times):\n",
    "        first_dice = dice()\n",
    "        second_dice = dice()\n",
    "        total = first_dice + second_dice\n",
    "        counter[total] += 1\n",
    "        return counter\n"
   ]
  },
  {
   "cell_type": "code",
   "execution_count": 68,
   "metadata": {},
   "outputs": [],
   "source": [
    "def multiple_rolls(k, number_of_times):\n",
    "    final_counter = Counter()\n",
    "    for i in range(k):\n",
    "        final_counter.update(dice_roll(number_of_times))\n",
    "    return final_counter"
   ]
  },
  {
   "cell_type": "code",
   "execution_count": 69,
   "metadata": {},
   "outputs": [
    {
     "data": {
      "text/plain": [
       "Counter({9: 1, 12: 1})"
      ]
     },
     "execution_count": 69,
     "metadata": {},
     "output_type": "execute_result"
    }
   ],
   "source": [
    "multiple_rolls(2, 1000)"
   ]
  },
  {
   "cell_type": "markdown",
   "metadata": {},
   "source": [
    "### Example 6"
   ]
  },
  {
   "cell_type": "code",
   "execution_count": 70,
   "metadata": {},
   "outputs": [],
   "source": [
    "def diceroll(k, n, dice_sides=6):\n",
    "    rolls = np.random.randint(dice_sides, size = (k, n)) + 1\n",
    "    counter = {k:v for k, v in zip(*np.unique(rolls.sum(1), return_counts = True))}\n",
    "    return counter"
   ]
  },
  {
   "cell_type": "code",
   "execution_count": 71,
   "metadata": {},
   "outputs": [
    {
     "data": {
      "text/plain": [
       "{2: 28,\n",
       " 3: 55,\n",
       " 4: 94,\n",
       " 5: 109,\n",
       " 6: 115,\n",
       " 7: 171,\n",
       " 8: 148,\n",
       " 9: 125,\n",
       " 10: 80,\n",
       " 11: 47,\n",
       " 12: 28}"
      ]
     },
     "execution_count": 71,
     "metadata": {},
     "output_type": "execute_result"
    }
   ],
   "source": [
    "diceroll(1000, 2)"
   ]
  },
  {
   "cell_type": "markdown",
   "metadata": {},
   "source": [
    "# Task 3\n",
    "\n",
    "The ``numpy.random.binomial`` function can be used to simulate flipping a coin with a 50/50 chance of heads or tails. Interestingly, if a coin is flipped many times then the number of heads is well approximated by a bell-shaped curve. For instance, if we flip a coin 100 times in a row the chance of getting 50 heads is relatively high, the chances of getting 0 or 100 heads is relatively low, and the chances of getting any other number of heads decreases as you move away from 50 in either direction towards 0 or 100. Write some python code that simulates flipping a coin 100 times. Then run this code 1,000 times, keeping track of the number of heads in each of the 1,000 simulations. Select an appropriate plot to depict the resulting list of 1,000 numbers, showing that it roughly follows a bell-shaped curve. You should explain your work in a Markdown cell above the code.\n",
    "![imagen moneda](https://miro.medium.com/max/700/0*Faod1RS9QKsPrQt5)"
   ]
  },
  {
   "cell_type": "markdown",
   "metadata": {},
   "source": [
    "We are going to create a program that simulates 1000 tosses of a coin and we will check how many times each result comes out."
   ]
  },
  {
   "cell_type": "markdown",
   "metadata": {},
   "source": [
    "## Binomial Distribution\n",
    "How are we going to simulate a coin flip? We can’t give the computer a bitcoin and tell it to flip it. Since we are using python, a mathematically focused language, we will use probability. Specifically numpy’s binomial distribution, np.random.binomial(n,p). This is a method in the random class and it takes in the number of trials (n) and the probability of the event occurring (p). Binomial distribution, as its name suggests, can perform a ‘coin flip’ of two events happening. The call returns a 0 or 1 to represent one of the two events. Here is the equation that it uses:\n",
    "\n",
    "![imagen algoritmo](https://miro.medium.com/max/205/0*euIHBcPwtUmJoPTw)\n",
    "\n",
    "``p`` is the probability, ``n`` is the number of trials ran, and ``N`` is the number of successes. We know now that for the binomial distribution to work we need two variables, ``n`` and ``p``."
   ]
  },
  {
   "cell_type": "markdown",
   "metadata": {},
   "source": [
    "### Example 1"
   ]
  },
  {
   "cell_type": "code",
   "execution_count": 90,
   "metadata": {},
   "outputs": [
    {
     "name": "stdout",
     "output_type": "stream",
     "text": [
      "Han salido 481 caras, y 519 cruces\n"
     ]
    }
   ],
   "source": [
    "import random \n",
    "\n",
    "caras = 0\n",
    "cruces = 0\n",
    "\n",
    "for i in range(1000):\n",
    "    tirada = random.choice([\"cara\",\"cruz\"])\n",
    "    if tirada == \"cara\":\n",
    "        caras +=1\n",
    "    elif tirada == \"cruz\":\n",
    "        cruces += 1\n",
    "\n",
    "print(\"Han salido\", caras, \"caras, y\", cruces, \"cruces\")        \n",
    "\n"
   ]
  },
  {
   "cell_type": "markdown",
   "metadata": {},
   "source": [
    "### Example 2"
   ]
  },
  {
   "cell_type": "markdown",
   "metadata": {},
   "source": [
    "This is a second example where the random module is used to generate 10,000 tosses of a coin."
   ]
  },
  {
   "cell_type": "code",
   "execution_count": 92,
   "metadata": {},
   "outputs": [
    {
     "name": "stdout",
     "output_type": "stream",
     "text": [
      "Sellos: 4954\n",
      "Caras: 5046\n"
     ]
    }
   ],
   "source": [
    "import random\n",
    "\n",
    "resultados = {'sello': 0, 'cara': 0}\n",
    "\n",
    "lados = list(resultados.keys())\n",
    "\n",
    "for _ in range(10000):\n",
    "    resultados[random.choice(lados)] += 1\n",
    "\n",
    "print('Sellos:', resultados['sello'])\n",
    "print('Caras:', resultados['cara'])"
   ]
  },
  {
   "cell_type": "markdown",
   "metadata": {},
   "source": [
    "Once we have done the two previous coin tossing experiments, the next step is to use matplotlib, to create the graph and show the number of heads on each side of the coin."
   ]
  },
  {
   "cell_type": "code",
   "execution_count": 93,
   "metadata": {},
   "outputs": [],
   "source": [
    "# An array called no_heads is created\n",
    "heads = np.random.binomial(100, .5, 1000)\n"
   ]
  },
  {
   "cell_type": "markdown",
   "metadata": {},
   "source": [
    "From here we will use the counting method to measure the frequency"
   ]
  },
  {
   "cell_type": "code",
   "execution_count": 50,
   "metadata": {},
   "outputs": [],
   "source": [
    "no_of_heads = counts(heads.tolist())"
   ]
  },
  {
   "cell_type": "markdown",
   "metadata": {},
   "source": [
    "Now we will create a list containing the number of releases."
   ]
  },
  {
   "cell_type": "code",
   "execution_count": 51,
   "metadata": {},
   "outputs": [],
   "source": [
    "x = list(no_of_heads.keys())\n",
    "y = list(no_of_heads.values())"
   ]
  },
  {
   "cell_type": "markdown",
   "metadata": {},
   "source": [
    "Next we will show the function with output in a bell-shaped diagram."
   ]
  },
  {
   "cell_type": "code",
   "execution_count": 52,
   "metadata": {},
   "outputs": [
    {
     "data": {
      "image/png": "[encoded data removed]",
      "text/plain": [
       "<Figure size 432x288 with 1 Axes>"
      ]
     },
     "metadata": {
      "needs_background": "light"
     },
     "output_type": "display_data"
    }
   ],
   "source": [
    "plt.hist(heads, bins=16)\n",
    "plt.plot(x,y)\n",
    "plt.show()"
   ]
  },
  {
   "cell_type": "markdown",
   "metadata": {},
   "source": [
    "# Task 4\n",
    "Simpson’s paradox is a well-known statistical paradox where a trend evident in a number of groups reverses when the groups are combined into one big data set. Use numpy to create four data sets, each with an x array and a corresponding y array, to demonstrate Simpson’s paradox. You might create your x arrays using ``numpy.linspace`` and create the y array for each x using notation like ``y = a * x + b`` where you choose the a and b for each ``x , y`` pair to demonstrate the paradox. You might see the Wikipedia page for Simpson’s paradox for inspiration."
   ]
  },
  {
   "cell_type": "markdown",
   "metadata": {},
   "source": [
    "**\"Simpson's paradox (or Yule-Simpson effect) is called the change in the sense of an association between two variables, numerical or qualitative, when the effect of a third variable is controlled.\"**\n",
    "\n",
    "### Gender Discrimination at the University of Berkeley, California\n",
    "\n",
    "One of the best-known examples of this paradox occurred in 1973 at the University of Berkeley, in California.\n",
    "\n",
    "This year's summer admissions results released by the university showed that female applicants were less likely to be accepted than males, and that the difference was so significant that it couldn't be due to chance.\n",
    "\n",
    "![imagen](https://quantdare.com/wp-content/uploads/2015/03/tabla11.png)\n",
    "\n",
    "Given these data, a young woman who had just had her application for admission to the university rejected, filed a lawsuit for discrimination against women who had applied.\n",
    "\n",
    "However, when the data from each of the departments were subsequently analyzed individually, it was shown that in no case was there a bias against women. In fact, most of the departments analyzed had a small but statistically significant bias in favor of women\n",
    "\n",
    "![imagen 2](https://quantdare.com/wp-content/uploads/2015/03/tabla2.png)\n",
    "\n",
    "![imagen 3](https://miro.medium.com/max/640/1*Y-r34mr3umIMii6kbgbFBQ.png)\n",
    "\n",
    "![imagen 4](https://miro.medium.com/max/640/1*Ew3OfKXPo5boVmYbcYfkEw.png)\n",
    "\n",
    "**\"It is easy to transfer the wrong conclusions, it is just a matter of finding the right way to show the data\"**\n",
    "\n"
   ]
  },
  {
   "cell_type": "markdown",
   "metadata": {},
   "source": [
    "### Example 1"
   ]
  },
  {
   "cell_type": "code",
   "execution_count": 95,
   "metadata": {},
   "outputs": [],
   "source": [
    "import numpy as np\n",
    "import matplotlib.pyplot as plt"
   ]
  },
  {
   "cell_type": "code",
   "execution_count": 97,
   "metadata": {},
   "outputs": [],
   "source": [
    "def f(x):\n",
    "    return np.exp(x) * np.sin(x)"
   ]
  },
  {
   "cell_type": "code",
   "execution_count": 99,
   "metadata": {},
   "outputs": [
    {
     "data": {
      "image/png": "[encoded data removed]",
      "text/plain": [
       "<Figure size 432x288 with 1 Axes>"
      ]
     },
     "metadata": {
      "needs_background": "light"
     },
     "output_type": "display_data"
    }
   ],
   "source": [
    "x = np.linspace(0, np.pi, 101)\n",
    "plt.plot(x,f(x))\n",
    "plt.grid()\n",
    "plt.show()"
   ]
  },
  {
   "cell_type": "markdown",
   "metadata": {},
   "source": [
    "### Example 2"
   ]
  },
  {
   "cell_type": "code",
   "execution_count": null,
   "metadata": {},
   "outputs": [],
   "source": [
    "from math import *\n",
    "\n",
    "funcion=list(input(\"Dame la integral/funcion: \"))\n",
    "b=float(input(\"Dame el intervalo superior de la integral: \"))\n",
    "a=float(input(\"Dame el intervalo inferior de la integral: \"))\n",
    "n=int(input(\"Dame el numero N: \"))\n",
    "\n",
    "def evaluacion(x):\n",
    "    copia=funcion.copy()\n",
    "    for j in range(len(copia)):\n",
    "        if copia[j]==\"x\":\n",
    "            copia[j]==x\n",
    "    return eval(\"\".join(copia))\n",
    "\n",
    "\n",
    "\n",
    "h=(b*a)/n\n",
    "total=0\n",
    "for i in range(1,n):#range(n-1)\n",
    "    x=a+(i*h)\n",
    "    if(i%2==0):\n",
    "        total+=2*evaluacion(x)\n",
    "    else:\n",
    "        total+=4*evaluacion(x)\n",
    "total+=evaluacion(a)+evaluacion(b)\n",
    "total=total*((1/3)*h)\n",
    "print(f\"Resultado={total}\")"
   ]
  },
  {
   "cell_type": "code",
   "execution_count": 53,
   "metadata": {},
   "outputs": [],
   "source": [
    "# points for line 1\n",
    "x1 = np.linspace(5, 10, num = 20)\n",
    "y1 = 2*x1 + 80\n",
    "\n",
    "# points for line 2\n",
    "x2 = np.linspace(7.5, 12.5, num = 20)\n",
    "y2 = 2*x2 + 60\n",
    "\n",
    "# points for line 3\n",
    "x3 = np.linspace(10, 15, num = 20)\n",
    "y3 = 2*x3 + 40\n",
    "\n",
    "# points for line 4\n",
    "x4 = np.linspace(12.5, 17.5, num = 20)\n",
    "y4 = 2*x4 + 20"
   ]
  },
  {
   "cell_type": "code",
   "execution_count": 54,
   "metadata": {},
   "outputs": [
    {
     "data": {
      "image/png": "[encoded data removed]",
      "text/plain": [
       "<Figure size 432x288 with 1 Axes>"
      ]
     },
     "metadata": {
      "needs_background": "light"
     },
     "output_type": "display_data"
    }
   ],
   "source": [
    "plt.plot(x1, y1)\n",
    "plt.plot(x2, y2)\n",
    "plt.plot(x3, y3)\n",
    "plt.plot(x4, y4)\n",
    "plt.show()"
   ]
  },
  {
   "cell_type": "code",
   "execution_count": 55,
   "metadata": {},
   "outputs": [],
   "source": [
    "# append the lists of points together\n",
    "x = np.append(x1, [x2, x3, x4])\n",
    "y = np.append(y1, [y2, y3, y4])"
   ]
  },
  {
   "cell_type": "code",
   "execution_count": 56,
   "metadata": {},
   "outputs": [
    {
     "data": {
      "image/png": "[encoded data removed]",
      "text/plain": [
       "<Figure size 432x288 with 1 Axes>"
      ]
     },
     "metadata": {
      "needs_background": "light"
     },
     "output_type": "display_data"
    }
   ],
   "source": [
    "# create the slope and constant of the equation of a line that best represents the points.\n",
    "m, b = np.polyfit(x, y, 1)\n",
    "# plot the points\n",
    "plt.plot(x, y, 'o')\n",
    "# plot the \n",
    "plt.plot(x, m*x + b)\n",
    "plt.show()"
   ]
  },
  {
   "cell_type": "code",
   "execution_count": 60,
   "metadata": {},
   "outputs": [
    {
     "data": {
      "text/plain": [
       "-4.178861788617888"
      ]
     },
     "execution_count": 60,
     "metadata": {},
     "output_type": "execute_result"
    }
   ],
   "source": [
    "m"
   ]
  },
  {
   "cell_type": "markdown",
   "metadata": {},
   "source": [
    "## References\n",
    "\n",
    "[Gender Bias in Admission Statistics? The Simpson-Paradox.](https://towardsdatascience.com/gender-bias-in-admission-statistics-the-simpson-paradox-cd381d994b16)\n",
    "\n",
    "[How To Code A Fair Coin Flip In Python — Regina Of Tech](https://towardsdatascience.com/how-to-code-a-fair-coin-flip-in-python-d54312f33da9)\n",
    "\n",
    "[Use Python to build a Dice Roller App](https://towardsdatascience.com/use-python-to-build-a-dice-roller-app-2408e66bf009)\n",
    "\n",
    "[How to Simulate a Dice Roll and Guess the Result in Python](https://medium.com/an-amygdala/how-to-simulate-a-dice-roll-and-guess-the-result-in-python-9785079af6f3)\n",
    "\n",
    "[Counting the frequencies in a list using dictionary in Python](https://www.geeksforgeeks.org/counting-the-frequencies-in-a-list-using-dictionary-in-python/)\n",
    "\n",
    "[Usar la Clase Counter para Calcular la Frecuencia de una Lista](https://youtu.be/2iC8jDLkKwQ)\n",
    "\n",
    "[Is there a way to track the number of times a function is called?](https://stackoverflow.com/questions/21716940/is-there-a-way-to-track-the-number-of-times-a-function-is-called)"
   ]
  },
  {
   "cell_type": "code",
   "execution_count": null,
   "metadata": {},
   "outputs": [],
   "source": []
  }
 ],
 "metadata": {
  "kernelspec": {
   "display_name": "Python 3",
   "language": "python",
   "name": "python3"
  },
  "language_info": {
   "codemirror_mode": {
    "name": "ipython",
    "version": 3
   },
   "file_extension": ".py",
   "mimetype": "text/x-python",
   "name": "python",
   "nbconvert_exporter": "python",
   "pygments_lexer": "ipython3",
   "version": "3.8.5"
  }
 },
 "nbformat": 4,
 "nbformat_minor": 4
}
